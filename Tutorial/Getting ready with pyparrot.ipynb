{
 "cells": [
  {
   "cell_type": "code",
   "execution_count": null,
   "metadata": {},
   "outputs": [],
   "source": [
    "#This tutorial is written in bash and is meant for linux \n",
    "#operating systems."
   ]
  },
  {
   "cell_type": "code",
   "execution_count": null,
   "metadata": {},
   "outputs": [],
   "source": [
    "    #PRE-REQUESITES"
   ]
  },
  {
   "cell_type": "code",
   "execution_count": null,
   "metadata": {},
   "outputs": [],
   "source": [
    "#This project requires Python3, if not already installed,\n",
    "#open a terminal window and type:\n",
    "\n",
    "sudo apt update\n",
    "apt-get install python3\n",
    "sudo apt-get install python3-pip\n",
    "\n",
    "#If you want to check that the latter type:\n",
    "\n",
    "python3 --version\n",
    "pip3 --version"
   ]
  },
  {
   "cell_type": "code",
   "execution_count": null,
   "metadata": {},
   "outputs": [],
   "source": [
    "#If you want to edit the project we recommand to use the PyCharm cross-platform.\n",
    "#PyCharm is downloadable from your computer application store.\n",
    "#Be sure to download the Community version.\n",
    "\n",
    "#If after launching PyCharm, a 'ModuleNotFoundError': \n",
    "#no module named 'distutils.core' is thrown, type:\n",
    "\n",
    "sudo apt-get install python3-distutils"
   ]
  },
  {
   "cell_type": "code",
   "execution_count": null,
   "metadata": {},
   "outputs": [],
   "source": [
    "    #DOWNLOADING THE PYPARROT FILE IN YOUR PROJECT FILE"
   ]
  },
  {
   "cell_type": "code",
   "execution_count": null,
   "metadata": {},
   "outputs": [],
   "source": [
    "#Navigate to the your project file on your computer (via\n",
    "#the terminal) and download the pyparrot files from Github:\n",
    "\n",
    "git clone https://github.com/Hollyqui/Bebop2-Animal-Tracking"
   ]
  },
  {
   "cell_type": "code",
   "execution_count": null,
   "metadata": {},
   "outputs": [],
   "source": [
    "    #INSTALLATING OF THE VISION PACKAGES"
   ]
  },
  {
   "cell_type": "code",
   "execution_count": null,
   "metadata": {},
   "outputs": [],
   "source": [
    "#VLC enables you to access the livestream video of the drone\n",
    "#on your laptop, you can install through the following link \n",
    "#https://www.videolan.org/vlc/index.html or by typping:\n",
    "\n",
    "sudo apt insatll snapd\n",
    "sudo snap install vlc\n",
    "\n",
    "#Note: The project requires VLC version 3.0.1 or higher\n",
    "\n",
    "#The following libraries are also required in order to access\n",
    "#the video stream\n",
    "\n",
    "pip3 install open-cv\n",
    "pip3 install PyQt5"
   ]
  },
  {
   "cell_type": "code",
   "execution_count": null,
   "metadata": {},
   "outputs": [],
   "source": [
    "    #INSTALLING THE NETWORK LIBRARIES"
   ]
  },
  {
   "cell_type": "code",
   "execution_count": null,
   "metadata": {},
   "outputs": [],
   "source": [
    "#Install the following libraries in order to obtain a \n",
    "#functional connection between the drone and your laptop:\n",
    "\n",
    "pip3 install zeroconf\n",
    "sudo apt-get install Bluetooth\n",
    "sudo apt-get install bluez\n",
    "sudo apt-get install python-bluez\n",
    "sudo pip install bluepy"
   ]
  },
  {
   "cell_type": "code",
   "execution_count": null,
   "metadata": {},
   "outputs": [],
   "source": [
    "     #INSTALLING THE TRANSLATION LIBRARIES"
   ]
  },
  {
   "cell_type": "code",
   "execution_count": null,
   "metadata": {},
   "outputs": [],
   "source": [
    "#untangle converts an XLM document to a Python object\n",
    "pip3 install untangle\n",
    "\n",
    "#libglib2.0-dev is a specific libarry of glib which contains general \n",
    "#C routines\n",
    "sudo apt-get install python-pip libglib2.0-dev\n",
    "sudo apt-get update"
   ]
  },
  {
   "cell_type": "code",
   "execution_count": null,
   "metadata": {},
   "outputs": [],
   "source": [
    "    # INTERPRETER SETTINGS (if working with PyCharm)"
   ]
  },
  {
   "cell_type": "code",
   "execution_count": null,
   "metadata": {},
   "outputs": [],
   "source": [
    "#When opening the Bebop2_Animal_Tracking project on Pycharm, make sure \n",
    "#Python 3.7 is selected as interpreter and that all the previously\n",
    "#installed libraries are added to your project interpreter.\n",
    "#To do so, find the interpreter short-cut at the bottom of the pycharm \n",
    "#window (left of the lock) and select Python 3.7 if not already selected\n",
    "#and verify by clicking on Python 3.7 and the Interpreter Settings... "
   ]
  },
  {
   "cell_type": "markdown",
   "metadata": {},
   "source": [
    "![Title](Images/Picture1.png)"
   ]
  },
  {
   "cell_type": "code",
   "execution_count": null,
   "metadata": {},
   "outputs": [],
   "source": [
    "#...that the required libraries are indeed added to your project environnment"
   ]
  },
  {
   "cell_type": "markdown",
   "metadata": {},
   "source": [
    "![Title](Images/Picture2.png)"
   ]
  },
  {
   "cell_type": "code",
   "execution_count": null,
   "metadata": {},
   "outputs": [],
   "source": [
    "    #TESTING THE INSTALLATION"
   ]
  },
  {
   "cell_type": "code",
   "execution_count": null,
   "metadata": {},
   "outputs": [],
   "source": [
    "#In order to verify that the installation is complete, connect your laptop to the \n",
    "#drone's wifi.\n",
    "\n",
    "#REMARK: By running the code, the drone will take-off, be sure to have enough space for\n",
    "#vertical motions. \n",
    "\n",
    "#Once connected try to run the pyparrot_test code, a video stream window should pop-up \n",
    "#and display a livestream of the drone. "
   ]
  },
  {
   "cell_type": "markdown",
   "metadata": {},
   "source": [
    "Reference: This tutorial was inspired by Amy McGovern's pyparrot project:\n",
    "https://github.com/amymcgovern/pyparrot    "
   ]
  }
 ],
 "metadata": {
  "kernelspec": {
   "display_name": "Python 3",
   "language": "python",
   "name": "python3"
  },
  "language_info": {
   "codemirror_mode": {
    "name": "ipython",
    "version": 3
   },
   "file_extension": ".py",
   "mimetype": "text/x-python",
   "name": "python",
   "nbconvert_exporter": "python",
   "pygments_lexer": "ipython3",
   "version": "3.6.7"
  }
 },
 "nbformat": 4,
 "nbformat_minor": 2
}
