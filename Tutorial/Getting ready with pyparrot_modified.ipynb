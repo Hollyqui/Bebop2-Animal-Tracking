{
 "cells": [
  {
   "cell_type": "markdown",
   "metadata": {},
   "source": [
    "This tutorial is written in bash and meant for linux operating systems."
   ]
  },
  {
   "cell_type": "code",
   "execution_count": null,
   "metadata": {},
   "outputs": [],
   "source": [
    "    #PRE-REQUESITES"
   ]
  },
  {
   "cell_type": "code",
   "execution_count": null,
   "metadata": {},
   "outputs": [],
   "source": [
    "#Pyparrot_modified requires Python3, if not already installed type (in a terminal window):\n",
    "\n",
    "sudo apt update\n",
    "apt-get install python3\n",
    "sudo apt install python3-pip\n",
    "\n",
    "#You can verify the version that has been installed with:\n",
    "\n",
    "pyhton3 --version\n",
    "pip3 --version "
   ]
  },
  {
   "cell_type": "code",
   "execution_count": null,
   "metadata": {},
   "outputs": [],
   "source": [
    "#If you plan to eddit the project, we recommand to use PyCharm for that.\n",
    "#PyCharm is downloadable from your laptop application store.\n",
    "#Be sure to install the Community version for linux. \n",
    "\n",
    "#In order to avoid the ErrorNoModuleFound 'distutils.core' when launching PyCharm, type:\n",
    "sudo apt-get install python3-distutils"
   ]
  },
  {
   "cell_type": "code",
   "execution_count": null,
   "metadata": {},
   "outputs": [],
   "source": [
    "    #INSTALLING THE VISION LIBRARIES"
   ]
  },
  {
   "cell_type": "code",
   "execution_count": null,
   "metadata": {},
   "outputs": [],
   "source": [
    "#This project requires VLC which allow you to obtain the live video stream of the drone camera\n",
    "#on your laptop. VLC can be downloaded by typping the following two lines:\n",
    "\n",
    "sudo apt install snapd\n",
    "sudo snap install vlc\n",
    "\n",
    "#Note: Pyparrot_modified requires the VLC version 3.0.1 or higher."
   ]
  },
  {
   "cell_type": "code",
   "execution_count": null,
   "metadata": {},
   "outputs": [],
   "source": [
    "#Additional libraries are required for the vision function to be functional:\n",
    "\n",
    "pip3 install opencv-python\n",
    "pip3 install PyQt5\n",
    "\n",
    "#Note: You might want to uninstall any previous versions of opencv if not installed with pip\n",
    "#to avoid any conflicts."
   ]
  },
  {
   "cell_type": "code",
   "execution_count": null,
   "metadata": {},
   "outputs": [],
   "source": [
    "    #INSTALLING THE NETWORK LIBRARIES"
   ]
  },
  {
   "cell_type": "code",
   "execution_count": null,
   "metadata": {},
   "outputs": [],
   "source": [
    "#The following libraries enables the connection between the drone and your computer.\n",
    "\n",
    "pip3 install zeroconf\n",
    "sudo apt-get install bluetooth\n",
    "sudo apt-get install bluez\n",
    "sudo apt-get install python-bluez\n",
    "sudo pip install bluepy"
   ]
  },
  {
   "cell_type": "code",
   "execution_count": null,
   "metadata": {},
   "outputs": [],
   "source": [
    "    #INSTALLING THE TRANSLATION LIBRARIES"
   ]
  },
  {
   "cell_type": "code",
   "execution_count": null,
   "metadata": {},
   "outputs": [],
   "source": [
    "#This project is built on several other project which were not necessarily developped in \n",
    "#Python3.The translation libraries ensure the exchange of information between codes that \n",
    "#are notwritten in the same programming language. \n",
    "\n",
    "#untangle converts XLM documents into a Python object\n",
    "pip3 install untangle\n",
    "\n",
    "#libglib2.0-dev is a package of GLib which contains useful C routines\n",
    "sudo apt-get install python-pip libglib2.0-dev\n",
    "sudo apt-get update"
   ]
  },
  {
   "cell_type": "code",
   "execution_count": null,
   "metadata": {},
   "outputs": [],
   "source": [
    "    #DOWNLOADING THE PYPARROT_MODIFIED FILES"
   ]
  },
  {
   "cell_type": "code",
   "execution_count": null,
   "metadata": {},
   "outputs": [],
   "source": [
    "#First navigate through the terminal with the command 'cd' to the path were you want the files\n",
    "#to be downloaded (i.e. PycharmProjects file)\n",
    "\n",
    "#The code files can be downloaded from GitHub by typping:\n",
    "git clone https://github.com/Hollyqui/Bebop2-Animal-Tracking/tree/master/pyparrot_modified\n",
    "    \n",
    "#If you want to download the entire Bebop2-Animal-Tracking project type:\n",
    "git clone https://github.com/Hollyqui/Bebop2-Animal-Tracking        "
   ]
  },
  {
   "cell_type": "code",
   "execution_count": null,
   "metadata": {},
   "outputs": [],
   "source": [
    "    #INTEPRETER SETTINGS (if working with PyCharm)"
   ]
  },
  {
   "cell_type": "code",
   "execution_count": null,
   "metadata": {},
   "outputs": [],
   "source": [
    "#Make sure Python3 has been added as interpreter of your project on PyCharm.\n",
    "#To do so check on the PyCharm window (bottom-right) that Python3 is displayed.\n",
    "#It should look like this:"
   ]
  },
  {
   "cell_type": "markdown",
   "metadata": {},
   "source": [
    "![](Picture2.png)"
   ]
  },
  {
   "cell_type": "code",
   "execution_count": null,
   "metadata": {},
   "outputs": [],
   "source": [
    "#You also want to make sure that the previously installed libraries have been added to your\n",
    "#interpreter. After cliking on Interpreter Settings... a pop-up window should appear and \n",
    "#display all the previously installed libraries."
   ]
  },
  {
   "cell_type": "markdown",
   "metadata": {},
   "source": [
    "![](Picture1.png)"
   ]
  },
  {
   "cell_type": "code",
   "execution_count": null,
   "metadata": {},
   "outputs": [],
   "source": [
    "     #TESTING THE INSTALLATION"
   ]
  },
  {
   "cell_type": "code",
   "execution_count": null,
   "metadata": {},
   "outputs": [],
   "source": [
    "#First connect your laptop to the drone's wifi. To do so, switch on the drone and look for a\n",
    "#network which conatins the name of your drone and its serial number, on your laptop.\n",
    "#The installation can easily be tested by running the pyparrot_test code. If succesfull a \n",
    "#video stream should appear on your laptop.\n",
    "\n",
    "#DISCLAIMER: Beware, by running the pyparrot_test code, the drone will take off. Be sure \n",
    "#to have enough space for vertical motions when testing. If you only want to test the vision\n",
    "#functionality you can run the code without adding the proppellors to the drone."
   ]
  },
  {
   "cell_type": "markdown",
   "metadata": {},
   "source": [
    "Reference: This tutorial was inspired by Amy McGovern's pyparrot project which can be found at:\n",
    "https://github.com/amymcgovern/pyparrot"
   ]
  }
 ],
 "metadata": {
  "kernelspec": {
   "display_name": "Python 3",
   "language": "python",
   "name": "python3"
  },
  "language_info": {
   "codemirror_mode": {
    "name": "ipython",
    "version": 3
   },
   "file_extension": ".py",
   "mimetype": "text/x-python",
   "name": "python",
   "nbconvert_exporter": "python",
   "pygments_lexer": "ipython3",
   "version": "3.7.3"
  }
 },
 "nbformat": 4,
 "nbformat_minor": 2
}
