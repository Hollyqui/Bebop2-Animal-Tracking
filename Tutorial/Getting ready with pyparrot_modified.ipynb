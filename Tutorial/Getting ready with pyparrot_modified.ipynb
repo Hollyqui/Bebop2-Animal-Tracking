{
 "cells": [
  {
   "cell_type": "markdown",
   "metadata": {},
   "source": [
    "This tutorial is written in bash and meant for linux operating systems. By simply running all cells all required programmes should be installed properly. \n",
    "\n",
    "In order to allow this notebook to install programmes as an administrator, you will have to enter your administrator password in the first cell when prompted to do so.\n",
    "\n",
    "If something does no work, try to copy the command into a command terminal (note that you might have to add 'sudo' in front of it manually at times."
   ]
  },
  {
   "cell_type": "markdown",
   "metadata": {},
   "source": [
    "### PRE-REQUESITES"
   ]
  },
  {
   "cell_type": "code",
   "execution_count": 40,
   "metadata": {},
   "outputs": [
    {
     "ename": "KeyboardInterrupt",
     "evalue": "",
     "output_type": "error",
     "traceback": [
      "\u001b[0;31m---------------------------------------------------------------------------\u001b[0m",
      "\u001b[0;31mKeyboardInterrupt\u001b[0m                         Traceback (most recent call last)",
      "\u001b[0;32m~/anaconda3/lib/python3.7/site-packages/ipykernel/kernelbase.py\u001b[0m in \u001b[0;36m_input_request\u001b[0;34m(self, prompt, ident, parent, password)\u001b[0m\n\u001b[1;32m    877\u001b[0m             \u001b[0;32mtry\u001b[0m\u001b[0;34m:\u001b[0m\u001b[0;34m\u001b[0m\u001b[0;34m\u001b[0m\u001b[0m\n\u001b[0;32m--> 878\u001b[0;31m                 \u001b[0mident\u001b[0m\u001b[0;34m,\u001b[0m \u001b[0mreply\u001b[0m \u001b[0;34m=\u001b[0m \u001b[0mself\u001b[0m\u001b[0;34m.\u001b[0m\u001b[0msession\u001b[0m\u001b[0;34m.\u001b[0m\u001b[0mrecv\u001b[0m\u001b[0;34m(\u001b[0m\u001b[0mself\u001b[0m\u001b[0;34m.\u001b[0m\u001b[0mstdin_socket\u001b[0m\u001b[0;34m,\u001b[0m \u001b[0;36m0\u001b[0m\u001b[0;34m)\u001b[0m\u001b[0;34m\u001b[0m\u001b[0;34m\u001b[0m\u001b[0m\n\u001b[0m\u001b[1;32m    879\u001b[0m             \u001b[0;32mexcept\u001b[0m \u001b[0mException\u001b[0m\u001b[0;34m:\u001b[0m\u001b[0;34m\u001b[0m\u001b[0;34m\u001b[0m\u001b[0m\n",
      "\u001b[0;32m~/anaconda3/lib/python3.7/site-packages/jupyter_client/session.py\u001b[0m in \u001b[0;36mrecv\u001b[0;34m(self, socket, mode, content, copy)\u001b[0m\n\u001b[1;32m    802\u001b[0m         \u001b[0;32mtry\u001b[0m\u001b[0;34m:\u001b[0m\u001b[0;34m\u001b[0m\u001b[0;34m\u001b[0m\u001b[0m\n\u001b[0;32m--> 803\u001b[0;31m             \u001b[0mmsg_list\u001b[0m \u001b[0;34m=\u001b[0m \u001b[0msocket\u001b[0m\u001b[0;34m.\u001b[0m\u001b[0mrecv_multipart\u001b[0m\u001b[0;34m(\u001b[0m\u001b[0mmode\u001b[0m\u001b[0;34m,\u001b[0m \u001b[0mcopy\u001b[0m\u001b[0;34m=\u001b[0m\u001b[0mcopy\u001b[0m\u001b[0;34m)\u001b[0m\u001b[0;34m\u001b[0m\u001b[0;34m\u001b[0m\u001b[0m\n\u001b[0m\u001b[1;32m    804\u001b[0m         \u001b[0;32mexcept\u001b[0m \u001b[0mzmq\u001b[0m\u001b[0;34m.\u001b[0m\u001b[0mZMQError\u001b[0m \u001b[0;32mas\u001b[0m \u001b[0me\u001b[0m\u001b[0;34m:\u001b[0m\u001b[0;34m\u001b[0m\u001b[0;34m\u001b[0m\u001b[0m\n",
      "\u001b[0;32m~/anaconda3/lib/python3.7/site-packages/zmq/sugar/socket.py\u001b[0m in \u001b[0;36mrecv_multipart\u001b[0;34m(self, flags, copy, track)\u001b[0m\n\u001b[1;32m    469\u001b[0m         \"\"\"\n\u001b[0;32m--> 470\u001b[0;31m         \u001b[0mparts\u001b[0m \u001b[0;34m=\u001b[0m \u001b[0;34m[\u001b[0m\u001b[0mself\u001b[0m\u001b[0;34m.\u001b[0m\u001b[0mrecv\u001b[0m\u001b[0;34m(\u001b[0m\u001b[0mflags\u001b[0m\u001b[0;34m,\u001b[0m \u001b[0mcopy\u001b[0m\u001b[0;34m=\u001b[0m\u001b[0mcopy\u001b[0m\u001b[0;34m,\u001b[0m \u001b[0mtrack\u001b[0m\u001b[0;34m=\u001b[0m\u001b[0mtrack\u001b[0m\u001b[0;34m)\u001b[0m\u001b[0;34m]\u001b[0m\u001b[0;34m\u001b[0m\u001b[0;34m\u001b[0m\u001b[0m\n\u001b[0m\u001b[1;32m    471\u001b[0m         \u001b[0;31m# have first part already, only loop while more to receive\u001b[0m\u001b[0;34m\u001b[0m\u001b[0;34m\u001b[0m\u001b[0;34m\u001b[0m\u001b[0m\n",
      "\u001b[0;32mzmq/backend/cython/socket.pyx\u001b[0m in \u001b[0;36mzmq.backend.cython.socket.Socket.recv\u001b[0;34m()\u001b[0m\n",
      "\u001b[0;32mzmq/backend/cython/socket.pyx\u001b[0m in \u001b[0;36mzmq.backend.cython.socket.Socket.recv\u001b[0;34m()\u001b[0m\n",
      "\u001b[0;32mzmq/backend/cython/socket.pyx\u001b[0m in \u001b[0;36mzmq.backend.cython.socket._recv_copy\u001b[0;34m()\u001b[0m\n",
      "\u001b[0;32m~/anaconda3/lib/python3.7/site-packages/zmq/backend/cython/checkrc.pxd\u001b[0m in \u001b[0;36mzmq.backend.cython.checkrc._check_rc\u001b[0;34m()\u001b[0m\n",
      "\u001b[0;31mKeyboardInterrupt\u001b[0m: ",
      "\nDuring handling of the above exception, another exception occurred:\n",
      "\u001b[0;31mKeyboardInterrupt\u001b[0m                         Traceback (most recent call last)",
      "\u001b[0;32m<ipython-input-40-45108d9da605>\u001b[0m in \u001b[0;36m<module>\u001b[0;34m\u001b[0m\n\u001b[1;32m      3\u001b[0m \u001b[0;32mimport\u001b[0m \u001b[0mos\u001b[0m\u001b[0;34m\u001b[0m\u001b[0;34m\u001b[0m\u001b[0m\n\u001b[1;32m      4\u001b[0m \u001b[0;34m\u001b[0m\u001b[0m\n\u001b[0;32m----> 5\u001b[0;31m \u001b[0mpassword\u001b[0m \u001b[0;34m=\u001b[0m \u001b[0mgetpass\u001b[0m\u001b[0;34m.\u001b[0m\u001b[0mgetpass\u001b[0m\u001b[0;34m(\u001b[0m\u001b[0;34m\"please enter you admin password to allow this notebook to install programmes as a superuser\"\u001b[0m\u001b[0;34m)\u001b[0m\u001b[0;34m\u001b[0m\u001b[0;34m\u001b[0m\u001b[0m\n\u001b[0m\u001b[1;32m      6\u001b[0m \u001b[0mcommand\u001b[0m \u001b[0;34m=\u001b[0m \u001b[0;34m\"apt-get update\"\u001b[0m\u001b[0;34m\u001b[0m\u001b[0;34m\u001b[0m\u001b[0m\n\u001b[1;32m      7\u001b[0m \u001b[0mget_ipython\u001b[0m\u001b[0;34m(\u001b[0m\u001b[0;34m)\u001b[0m\u001b[0;34m.\u001b[0m\u001b[0msystem\u001b[0m\u001b[0;34m(\u001b[0m\u001b[0;34m'echo {password}|sudo -S {command}'\u001b[0m\u001b[0;34m)\u001b[0m\u001b[0;34m\u001b[0m\u001b[0;34m\u001b[0m\u001b[0m\n",
      "\u001b[0;32m~/anaconda3/lib/python3.7/site-packages/ipykernel/kernelbase.py\u001b[0m in \u001b[0;36mgetpass\u001b[0;34m(self, prompt, stream)\u001b[0m\n\u001b[1;32m    834\u001b[0m             \u001b[0mself\u001b[0m\u001b[0;34m.\u001b[0m\u001b[0m_parent_ident\u001b[0m\u001b[0;34m,\u001b[0m\u001b[0;34m\u001b[0m\u001b[0;34m\u001b[0m\u001b[0m\n\u001b[1;32m    835\u001b[0m             \u001b[0mself\u001b[0m\u001b[0;34m.\u001b[0m\u001b[0m_parent_header\u001b[0m\u001b[0;34m,\u001b[0m\u001b[0;34m\u001b[0m\u001b[0;34m\u001b[0m\u001b[0m\n\u001b[0;32m--> 836\u001b[0;31m             \u001b[0mpassword\u001b[0m\u001b[0;34m=\u001b[0m\u001b[0;32mTrue\u001b[0m\u001b[0;34m,\u001b[0m\u001b[0;34m\u001b[0m\u001b[0;34m\u001b[0m\u001b[0m\n\u001b[0m\u001b[1;32m    837\u001b[0m         )\n\u001b[1;32m    838\u001b[0m \u001b[0;34m\u001b[0m\u001b[0m\n",
      "\u001b[0;32m~/anaconda3/lib/python3.7/site-packages/ipykernel/kernelbase.py\u001b[0m in \u001b[0;36m_input_request\u001b[0;34m(self, prompt, ident, parent, password)\u001b[0m\n\u001b[1;32m    881\u001b[0m             \u001b[0;32mexcept\u001b[0m \u001b[0mKeyboardInterrupt\u001b[0m\u001b[0;34m:\u001b[0m\u001b[0;34m\u001b[0m\u001b[0;34m\u001b[0m\u001b[0m\n\u001b[1;32m    882\u001b[0m                 \u001b[0;31m# re-raise KeyboardInterrupt, to truncate traceback\u001b[0m\u001b[0;34m\u001b[0m\u001b[0;34m\u001b[0m\u001b[0;34m\u001b[0m\u001b[0m\n\u001b[0;32m--> 883\u001b[0;31m                 \u001b[0;32mraise\u001b[0m \u001b[0mKeyboardInterrupt\u001b[0m\u001b[0;34m\u001b[0m\u001b[0;34m\u001b[0m\u001b[0m\n\u001b[0m\u001b[1;32m    884\u001b[0m             \u001b[0;32melse\u001b[0m\u001b[0;34m:\u001b[0m\u001b[0;34m\u001b[0m\u001b[0;34m\u001b[0m\u001b[0m\n\u001b[1;32m    885\u001b[0m                 \u001b[0;32mbreak\u001b[0m\u001b[0;34m\u001b[0m\u001b[0;34m\u001b[0m\u001b[0m\n",
      "\u001b[0;31mKeyboardInterrupt\u001b[0m: "
     ]
    }
   ],
   "source": [
    "#Pyparrot_modified requires Python3, if not already installed type (in a terminal window):\n",
    "import getpass\n",
    "import os\n",
    "\n",
    "password = getpass.getpass(\"please enter you admin password to allow this notebook to acces sudo commands: \")\n",
    "command = \"apt-get update\"\n",
    "!echo {password}|sudo -S {command}\n",
    "\n",
    "\n",
    "command = \"apt-get install python3\"\n",
    "!echo {password}|sudo -S {command}\n",
    "\n",
    "command = \"apt install python3-pip\"\n",
    "!echo {password}|sudo -S {command}\n",
    "\n",
    "#You can verify the version that has been installed with:\n",
    "! python3 --version\n",
    "! pip3 --version"
   ]
  },
  {
   "cell_type": "markdown",
   "metadata": {},
   "source": [
    "If you plan to eddit the project, we recommand to use PyCharm for that.\n",
    "PyCharm is downloadable from your laptop application store.\n",
    "Be sure to install the Community version for linux. "
   ]
  },
  {
   "cell_type": "code",
   "execution_count": 34,
   "metadata": {
    "scrolled": true
   },
   "outputs": [
    {
     "name": "stdout",
     "output_type": "stream",
     "text": [
      "Reading package lists... Done\n",
      "Building dependency tree       \n",
      "Reading state information... Done\n",
      "python3-distutils is already the newest version (3.6.8-1~18.04).\n",
      "The following packages were automatically installed and are no longer required:\n",
      "  linux-headers-4.18.0-15 linux-headers-4.18.0-15-generic\n",
      "  linux-image-4.18.0-15-generic linux-modules-4.18.0-15-generic\n",
      "  linux-modules-extra-4.18.0-15-generic\n",
      "Use 'sudo apt autoremove' to remove them.\n",
      "0 upgraded, 0 newly installed, 0 to remove and 37 not upgraded.\n"
     ]
    }
   ],
   "source": [
    "#In order to avoid the ErrorNoModuleFound 'distutils.core' when launching PyCharm, type:\n",
    "command = \"sudo -S apt-get install python3-distutils\"\n",
    "!echo {password}|sudo -S {command}"
   ]
  },
  {
   "cell_type": "markdown",
   "metadata": {},
   "source": [
    "### INSTALLING THE VISION LIBRARIES"
   ]
  },
  {
   "cell_type": "markdown",
   "metadata": {},
   "source": [
    "This project requires VLC which allow you to obtain the live video stream of the drone camera\n",
    "on your laptop. VLC can be downloaded by typping the following two lines:"
   ]
  },
  {
   "cell_type": "code",
   "execution_count": 35,
   "metadata": {},
   "outputs": [
    {
     "name": "stdout",
     "output_type": "stream",
     "text": [
      "Reading package lists... Done\n",
      "Building dependency tree       \n",
      "Reading state information... Done\n",
      "snapd is already the newest version (2.39.2+18.04).\n",
      "The following packages were automatically installed and are no longer required:\n",
      "  linux-headers-4.18.0-15 linux-headers-4.18.0-15-generic\n",
      "  linux-image-4.18.0-15-generic linux-modules-4.18.0-15-generic\n",
      "  linux-modules-extra-4.18.0-15-generic\n",
      "Use 'sudo apt autoremove' to remove them.\n",
      "0 upgraded, 0 newly installed, 0 to remove and 37 not upgraded.\n",
      "[sudo] password for felix: snap \"vlc\" is already installed, see 'snap help refresh'\n"
     ]
    }
   ],
   "source": [
    "\n",
    "command = \"sudo apt install snapd\"\n",
    "!echo {password}|sudo -S {command}\n",
    "\n",
    "command = \"sudo snap install vlc\"\n",
    "!echo {password}|sudo -S {command}"
   ]
  },
  {
   "cell_type": "markdown",
   "metadata": {},
   "source": [
    "Note: Pyparrot_modified requires the VLC version 3.0.1 or higher."
   ]
  },
  {
   "cell_type": "code",
   "execution_count": 36,
   "metadata": {},
   "outputs": [
    {
     "name": "stdout",
     "output_type": "stream",
     "text": [
      "Collecting opencv-python\n",
      "  Using cached https://files.pythonhosted.org/packages/7b/d2/a2dbf83d4553ca6b3701d91d75e42fe50aea97acdc00652dca515749fb5d/opencv_python-4.1.0.25-cp36-cp36m-manylinux1_x86_64.whl\n",
      "Collecting numpy>=1.11.3 (from opencv-python)\n",
      "  Using cached https://files.pythonhosted.org/packages/87/2d/e4656149cbadd3a8a0369fcd1a9c7d61cc7b87b3903b85389c70c989a696/numpy-1.16.4-cp36-cp36m-manylinux1_x86_64.whl\n",
      "Installing collected packages: numpy, opencv-python\n",
      "Successfully installed numpy-1.16.4 opencv-python-4.1.0.25\n",
      "Collecting PyQt5\n",
      "  Using cached https://files.pythonhosted.org/packages/83/d0/b4860e06095c4e1e60294365bd0d2a0d3e3d4b9b64bcd0241f083ffc01f2/PyQt5-5.12.3-5.12.4-cp35.cp36.cp37.cp38-abi3-manylinux1_x86_64.whl\n",
      "Collecting PyQt5_sip<13,>=4.19.14 (from PyQt5)\n",
      "  Using cached https://files.pythonhosted.org/packages/4a/e2/0a2ab857a85e6c09ddd4ebc0bf03274557899d79e678bc78908b3856511b/PyQt5_sip-4.19.17-cp36-cp36m-manylinux1_x86_64.whl\n",
      "Installing collected packages: PyQt5-sip, PyQt5\n",
      "Successfully installed PyQt5-5.12.3 PyQt5-sip-4.19.17\n"
     ]
    }
   ],
   "source": [
    "#Additional libraries are required for the vision function to be functional:\n",
    "! pip3 install opencv-python\n",
    "! pip3 install PyQt5"
   ]
  },
  {
   "cell_type": "markdown",
   "metadata": {},
   "source": [
    "Note: You might want to uninstall any previous versions of opencv if not installed with pip\n",
    "to avoid any conflicts."
   ]
  },
  {
   "cell_type": "markdown",
   "metadata": {},
   "source": [
    "### INSTALLING THE NETWORK LIBRARIES"
   ]
  },
  {
   "cell_type": "code",
   "execution_count": 37,
   "metadata": {},
   "outputs": [
    {
     "name": "stdout",
     "output_type": "stream",
     "text": [
      "Collecting zeroconf\n",
      "  Using cached https://files.pythonhosted.org/packages/c0/1a/b594e55ed85942789ceb4233f8cbca946873be5f77a02c1c75ef6944e6fe/zeroconf-0.23.0-py3-none-any.whl\n",
      "Collecting ifaddr (from zeroconf)\n",
      "Installing collected packages: ifaddr, zeroconf\n",
      "Successfully installed ifaddr-0.1.6 zeroconf-0.23.0\n",
      "Reading package lists... Done\n",
      "Building dependency tree       \n",
      "Reading state information... Done\n",
      "bluetooth is already the newest version (5.48-0ubuntu3.1).\n",
      "The following packages were automatically installed and are no longer required:\n",
      "  linux-headers-4.18.0-15 linux-headers-4.18.0-15-generic\n",
      "  linux-image-4.18.0-15-generic linux-modules-4.18.0-15-generic\n",
      "  linux-modules-extra-4.18.0-15-generic\n",
      "Use 'sudo apt autoremove' to remove them.\n",
      "0 upgraded, 0 newly installed, 0 to remove and 37 not upgraded.\n",
      "Reading package lists... Done\n",
      "Building dependency tree       \n",
      "Reading state information... Done\n",
      "bluez is already the newest version (5.48-0ubuntu3.1).\n",
      "The following packages were automatically installed and are no longer required:\n",
      "  linux-headers-4.18.0-15 linux-headers-4.18.0-15-generic\n",
      "  linux-image-4.18.0-15-generic linux-modules-4.18.0-15-generic\n",
      "  linux-modules-extra-4.18.0-15-generic\n",
      "Use 'sudo apt autoremove' to remove them.\n",
      "0 upgraded, 0 newly installed, 0 to remove and 37 not upgraded.\n",
      "Reading package lists... Done\n",
      "Building dependency tree       \n",
      "Reading state information... Done\n",
      "python-bluez is already the newest version (0.22-1).\n",
      "The following packages were automatically installed and are no longer required:\n",
      "  linux-headers-4.18.0-15 linux-headers-4.18.0-15-generic\n",
      "  linux-image-4.18.0-15-generic linux-modules-4.18.0-15-generic\n",
      "  linux-modules-extra-4.18.0-15-generic\n",
      "Use 'sudo apt autoremove' to remove them.\n",
      "0 upgraded, 0 newly installed, 0 to remove and 37 not upgraded.\n",
      "[sudo] password for felix: \u001b[33mThe directory '/home/felix/.cache/pip/http' or its parent directory is not owned by the current user and the cache has been disabled. Please check the permissions and owner of that directory. If executing pip with sudo, you may want sudo's -H flag.\u001b[0m\n",
      "\u001b[33mThe directory '/home/felix/.cache/pip' or its parent directory is not owned by the current user and caching wheels has been disabled. check the permissions and owner of that directory. If executing pip with sudo, you may want sudo's -H flag.\u001b[0m\n",
      "Requirement already satisfied: bluepy in /usr/local/lib/python2.7/dist-packages\n"
     ]
    }
   ],
   "source": [
    "#The following libraries enables the connection between the drone and your computer.\n",
    "! pip3 install zeroconf\n",
    "command = \"sudo apt-get install bluetooth\"\n",
    "!echo {password}|sudo -S {command}\n",
    "command = \"sudo apt-get install bluez\"\n",
    "!echo {password}|sudo -S {command}\n",
    "command = \"sudo apt-get install python-bluez\"\n",
    "!echo {password}|sudo -S {command}\n",
    "command = \"sudo pip install bluepy\"\n",
    "!echo {password}|sudo -S {command}"
   ]
  },
  {
   "cell_type": "markdown",
   "metadata": {},
   "source": [
    "### INSTALLING THE TRANSLATION LIBRARIES"
   ]
  },
  {
   "cell_type": "markdown",
   "metadata": {},
   "source": [
    "This project is built on several other project which were not necessarily developped in \n",
    "Python3.The translation libraries ensure the exchange of information between codes that \n",
    "are notwritten in the same programming language. "
   ]
  },
  {
   "cell_type": "code",
   "execution_count": 38,
   "metadata": {},
   "outputs": [
    {
     "name": "stdout",
     "output_type": "stream",
     "text": [
      "Collecting untangle\n",
      "Installing collected packages: untangle\n",
      "Successfully installed untangle-1.1.1\n",
      "Reading package lists... Done\n",
      "Building dependency tree       \n",
      "Reading state information... Done\n",
      "libglib2.0-dev is already the newest version (2.56.4-0ubuntu0.18.04.3).\n",
      "python-pip is already the newest version (9.0.1-2.3~ubuntu1.18.04.1).\n",
      "The following packages were automatically installed and are no longer required:\n",
      "  linux-headers-4.18.0-15 linux-headers-4.18.0-15-generic\n",
      "  linux-image-4.18.0-15-generic linux-modules-4.18.0-15-generic\n",
      "  linux-modules-extra-4.18.0-15-generic\n",
      "Use 'sudo apt autoremove' to remove them.\n",
      "0 upgraded, 0 newly installed, 0 to remove and 37 not upgraded.\n",
      "Hit:1 http://nl.archive.ubuntu.com/ubuntu bionic InRelease\n",
      "Ign:2 http://dl.google.com/linux/chrome/deb stable InRelease                   \n",
      "Hit:3 http://ppa.launchpad.net/graphics-drivers/ppa/ubuntu bionic InRelease    \n",
      "Hit:4 http://nl.archive.ubuntu.com/ubuntu bionic-updates InRelease             \n",
      "Hit:5 http://dl.google.com/linux/chrome/deb stable Release                     \n",
      "Hit:6 http://nl.archive.ubuntu.com/ubuntu bionic-backports InRelease           \n",
      "Hit:7 http://ppa.launchpad.net/obsproject/obs-studio/ubuntu bionic InRelease   \n",
      "Hit:8 https://repo.skype.com/deb stable InRelease                              \n",
      "Hit:9 https://download.docker.com/linux/ubuntu bionic InRelease                \n",
      "Hit:10 http://security.ubuntu.com/ubuntu bionic-security InRelease\n",
      "Reading package lists... Done                      \n"
     ]
    }
   ],
   "source": [
    "#untangle converts XLM documents into a Python object\n",
    "!pip3 install untangle\n",
    "\n",
    "#libglib2.0-dev is a package of GLib which contains useful C routines\n",
    "command = \"sudo apt-get install python-pip libglib2.0-dev\"\n",
    "!echo {password}|sudo -S {command}\n",
    "command = \"sudo apt-get update\"\n",
    "!echo {password}|sudo -S {command}"
   ]
  },
  {
   "cell_type": "markdown",
   "metadata": {},
   "source": [
    "### DOWNLOADING THE PYPARROT_MODIFIED FILES"
   ]
  },
  {
   "cell_type": "markdown",
   "metadata": {},
   "source": [
    "First navigate through the terminal with the command 'cd' to the path were you want the files\n",
    "to be downloaded (i.e. PycharmProjects file)."
   ]
  },
  {
   "cell_type": "code",
   "execution_count": 39,
   "metadata": {},
   "outputs": [
    {
     "name": "stdout",
     "output_type": "stream",
     "text": [
      "Cloning into 'Bebop2-Animal-Tracking'...\n",
      "remote: Enumerating objects: 70, done.\u001b[K\n",
      "remote: Counting objects: 100% (70/70), done.\u001b[K\n",
      "remote: Compressing objects: 100% (68/68), done.\u001b[K\n",
      "remote: Total 432 (delta 23), reused 30 (delta 1), pack-reused 362\n",
      "Receiving objects: 100% (432/432), 5.14 MiB | 3.09 MiB/s, done.\n",
      "Resolving deltas: 100% (186/186), done.\n"
     ]
    }
   ],
   "source": [
    "#If you want to download the entire Bebop2-Animal-Tracking project type:\n",
    "! git clone https://github.com/Hollyqui/Bebop2-Animal-Tracking        "
   ]
  },
  {
   "cell_type": "markdown",
   "metadata": {},
   "source": [
    "### INTEPRETER SETTINGS (if working with PyCharm)"
   ]
  },
  {
   "cell_type": "markdown",
   "metadata": {},
   "source": [
    "Make sure Python3 has been added as interpreter of your project on PyCharm.\n",
    "To do so check on the PyCharm window (bottom-right) that Python3 is displayed.\n",
    "It should look like this:"
   ]
  },
  {
   "cell_type": "markdown",
   "metadata": {},
   "source": [
    "![](Picture2.png)"
   ]
  },
  {
   "cell_type": "markdown",
   "metadata": {},
   "source": [
    "You also want to make sure that the previously installed libraries have been added to your\n",
    "interpreter. After cliking on Interpreter Settings... a pop-up window should appear and \n",
    "display all the previously installed libraries."
   ]
  },
  {
   "cell_type": "markdown",
   "metadata": {},
   "source": [
    "![](Picture1.png)"
   ]
  },
  {
   "cell_type": "markdown",
   "metadata": {},
   "source": [
    "### TESTING THE INSTALLATION"
   ]
  },
  {
   "cell_type": "markdown",
   "metadata": {},
   "source": [
    "First connect your laptop to the drone's wifi. To do so, switch on the drone and look for a\n",
    "network which conatins the name of your drone and its serial number, on your laptop.\n",
    "The installation can easily be tested by running the pyparrot_test code. If succesfull a \n",
    "video stream should appear on your laptop.\n",
    "\n",
    "DISCLAIMER: Beware, by running the pyparrot_test code, the drone will take off. Be sure \n",
    "to have enough space for vertical motions when testing. If you only want to test the vision\n",
    "functionality you can run the code without adding the proppellors to the drone."
   ]
  },
  {
   "cell_type": "markdown",
   "metadata": {},
   "source": [
    "Reference: This tutorial was inspired by Amy McGovern's pyparrot project which can be found at:\n",
    "https://github.com/amymcgovern/pyparrot"
   ]
  }
 ],
 "metadata": {
  "kernelspec": {
   "display_name": "Python 3",
   "language": "python",
   "name": "python3"
  },
  "language_info": {
   "codemirror_mode": {
    "name": "ipython",
    "version": 3
   },
   "file_extension": ".py",
   "mimetype": "text/x-python",
   "name": "python",
   "nbconvert_exporter": "python",
   "pygments_lexer": "ipython3",
   "version": "3.7.3"
  }
 },
 "nbformat": 4,
 "nbformat_minor": 2
}
