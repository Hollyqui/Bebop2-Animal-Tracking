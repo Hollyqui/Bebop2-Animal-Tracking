{
 "cells": [
  {
   "cell_type": "markdown",
   "metadata": {},
   "source": [
    "# Manual"
   ]
  },
  {
   "cell_type": "markdown",
   "metadata": {},
   "source": [
    "This part has to be executed manually and can't be done by just running the jupyter notbook files. Simply copy the code from the cells into a command terminal (you can open one used ctrl+alt+t or simply search for 'cmd' in your programme list."
   ]
  },
  {
   "cell_type": "markdown",
   "metadata": {},
   "source": [
    "Go to https://www.anaconda.com/download/\n",
    "\n",
    "Download Anaconda Python 3.7 version for Linux\n",
    "\n",
    "Enter the following to install Anaconda for Python 3.7:\n",
    "\n",
    "\n",
    "\n"
   ]
  },
  {
   "cell_type": "code",
   "execution_count": null,
   "metadata": {},
   "outputs": [],
   "source": [
    "bash ~/Downloads/Anaconda3-2019.03-Linux-x86_64.sh"
   ]
  },
  {
   "cell_type": "markdown",
   "metadata": {},
   "source": [
    "When prompted with the question “Do you wish the installer to prepend the Anaconda<2 or 3> install location to PATH in your /home/<user>/.bashrc ?”, answer “Yes”. If you enter “No”, you must manually add the path to Anaconda or conda will not work \n"
   ]
  },
  {
   "cell_type": "markdown",
   "metadata": {},
   "source": [
    "## Install TensorFlow GPU"
   ]
  },
  {
   "cell_type": "markdown",
   "metadata": {},
   "source": [
    "### Create a new Conda enviornment\n",
    "\n",
    "Open a new command prompt and type the following command:"
   ]
  },
  {
   "cell_type": "code",
   "execution_count": null,
   "metadata": {},
   "outputs": [],
   "source": [
    "conda create -n tensorflow_gpu pip python=3.6 --yes"
   ]
  },
  {
   "cell_type": "markdown",
   "metadata": {},
   "source": [
    "The above will create a new virtual environment with name tensorflow_gpu\n",
    "\n",
    "Now lets activate the newly created virtual environment by running the following in the Anaconda Promt window:"
   ]
  },
  {
   "cell_type": "code",
   "execution_count": null,
   "metadata": {},
   "outputs": [],
   "source": [
    "conda activate tensorflow_gpu"
   ]
  },
  {
   "cell_type": "markdown",
   "metadata": {},
   "source": [
    "Now we will install tensorflow gpu as well as the required drivers"
   ]
  },
  {
   "cell_type": "code",
   "execution_count": null,
   "metadata": {},
   "outputs": [],
   "source": [
    "conda install tensorflow-gpu\n",
    "conda install cuda-toolkit\n",
    "conda install cudnn"
   ]
  },
  {
   "cell_type": "markdown",
   "metadata": {},
   "source": [
    "Wait for the installation to finish"
   ]
  },
  {
   "cell_type": "markdown",
   "metadata": {},
   "source": [
    "# TensorFlow Models Installation\n",
    "\n",
    "## Install Prerequisites\n",
    "\n",
    "Now that you have installed TensorFlow, it is time to install the models used by TensorFlow to do its magic.\n",
    "\n",
    "Building on the assumption that you have just created your new virtual environment (whether that’s tensorflow_cpu,`tensorflow_gpu` or whatever other name you might have used), there are some packages which need to be installed before installing the models.\n",
    "\n",
    "Prerequisite packages :\n",
    "\n",
    "pillow \n",
    "\n",
    "lxml \n",
    "\n",
    "jupyter\n",
    "\n",
    "matplotlib\n",
    "\n",
    "opencv \n",
    "\n",
    "\n",
    "\n",
    "The packages can be installed using conda by running:\n"
   ]
  },
  {
   "cell_type": "code",
   "execution_count": null,
   "metadata": {},
   "outputs": [],
   "source": [
    "conda install pillow\n",
    "conda install lxml\n",
    "conda install jupyter \n",
    "conda install matplotlib\n",
    "conda install opencv"
   ]
  }
 ],
 "metadata": {
  "kernelspec": {
   "display_name": "Python 3",
   "language": "python",
   "name": "python3"
  },
  "language_info": {
   "codemirror_mode": {
    "name": "ipython",
    "version": 3
   },
   "file_extension": ".py",
   "mimetype": "text/x-python",
   "name": "python",
   "nbconvert_exporter": "python",
   "pygments_lexer": "ipython3",
   "version": "3.7.3"
  }
 },
 "nbformat": 4,
 "nbformat_minor": 2
}
